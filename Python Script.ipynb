{
 "cells": [
  {
   "cell_type": "markdown",
   "id": "9a2708d4",
   "metadata": {},
   "source": [
    "# Automation of Accounting Reports\n",
    "\n",
    "### Python script to automate repetitive tasks for  financial audits"
   ]
  },
  {
   "cell_type": "markdown",
   "id": "2c404cbc",
   "metadata": {},
   "source": [
    "This python will perform the following tasks:\n",
    "- Open every Excel Report located in a folder\n",
    "- Processing and cleaning data\n",
    "- Build the monthly report following a specific format\n",
    "- Merge the monthly report with the global data frame\n",
    "- Saving final results in an Excel file"
   ]
  },
  {
   "cell_type": "markdown",
   "id": "0a86522e",
   "metadata": {},
   "source": [
    "## 1. Define the list of excel files to process and the final report dataframe"
   ]
  },
  {
   "cell_type": "code",
   "execution_count": 9,
   "id": "1ea8696d",
   "metadata": {},
   "outputs": [],
   "source": [
    "import pandas as pd\n",
    "\n",
    "# Dictionary of filenames \n",
    "list_files = ['DC-JAN-2017.xlsx', 'DC-FEB-2017.xlsx', 'DC-MAR-2017.xlsx','DC-APR-2017.xlsx', 'DC-MAY-2017.xlsx', 'DC-JUN-2017.xlsx',\n",
    "             'DC-JUL-2017.xlsx', 'DC-AUG-2017.xlsx', 'DC-SEP-2017.xlsx','DC-OCT-2017.xlsx', 'DC-NOV-2017.xlsx', 'DC-DEC-2017.xlsx']\n",
    "zip_loop = zip(list_files, [i[3:6] for i in list_files])"
   ]
  },
  {
   "cell_type": "code",
   "execution_count": 10,
   "id": "8b756818",
   "metadata": {},
   "outputs": [],
   "source": [
    "# Final report DataFrame\n",
    "df_report = pd.DataFrame()"
   ]
  },
  {
   "cell_type": "markdown",
   "id": "1df1d0b9",
   "metadata": {},
   "source": [
    "## 2. Create a function that opens the excel file and cleans it"
   ]
  },
  {
   "cell_type": "code",
   "execution_count": 11,
   "id": "66645762",
   "metadata": {},
   "outputs": [],
   "source": [
    "# Function to open and clean\n",
    "def clean(file_raw, month):\n",
    "    # Open the file and start from line 5\n",
    "    df_raw = pd.read_excel(file_raw, header = 5)\n",
    "    df_raw.head()\n",
    "\n",
    "    # Remove First Lines\n",
    "    df_clean = df_raw.copy()\n",
    "    df_clean = df_clean.iloc[4:]\n",
    "\n",
    "    # FillNa with '-' (strings)\n",
    "    for col in df_raw.columns[0:2]:\n",
    "        df_clean[col] = df_clean[col].fillna('-')\n",
    "\n",
    "    # FillNa with 0 (numeric)\n",
    "    for col in df_raw.columns[2:]:\n",
    "        df_clean[col] = df_clean[col].fillna(0).round(1)\n",
    "\n",
    "    # TRIM Column values \n",
    "    df_clean.columns = [str(t).strip() for t in df_clean.columns]\n",
    "\n",
    "    return df_clean "
   ]
  },
  {
   "cell_type": "markdown",
   "id": "de795c81",
   "metadata": {},
   "source": [
    "## 3. Create a function that processes the cleaned dataframe and reformats it "
   ]
  },
  {
   "cell_type": "code",
   "execution_count": null,
   "id": "b7ddef1d",
   "metadata": {},
   "outputs": [],
   "source": [
    "# Function to process and reformat the dataframe\n",
    "def process_month(df_clean, month):\n",
    "\n",
    "    # Type\n",
    "    df_clean['Type'] = df_clean[['Renting', 'Investment']].apply(\n",
    "        lambda t: 'Rent.' if t['Renting']=='X' else 'Invest.' if t['Investment']=='X' else 'Purch.', axis = 1)\n",
    "\n",
    "    # Quantity \n",
    "    dict_qty = dict(zip(['Rent.', 'Purch.', 'Invest.'], ['Rental Units', 'Purchasing Units', 'Invests. Units']))\n",
    "    df_clean['Qty'] = df_clean.apply(lambda t: t[dict_qty[t['Type']]], axis = 1)\n",
    "\n",
    "    #  Unit Cost  \n",
    "    dict_cost = dict(zip(['Rent.', 'Purch.', 'Invest.'], ['Unit Rental Cost per month', 'Purchasing Unit Cost', 'Invests. Unit Cost']))\n",
    "    df_clean['Unit Cost'] = df_clean.apply(lambda t: t[dict_cost[t['Type']]], axis = 1)\n",
    "\n",
    "    # Report dataframe\n",
    "    df_report = df_clean[df_clean.columns[-3:]].copy()\n",
    "    df_report.columns = [Month + '-' + str(i) for i in df_report.columns]\n",
    "\n",
    "    # Add Month\n",
    "    df_month = pd.DataFrame([pd.Series(['', 'May', ''])])\n",
    "    df_month.columns = df_report.columns\n",
    "\n",
    "    # Concat\n",
    "    df_report = pd.concat([df_month, df_report], ignore_index=False)\n",
    "    \n",
    "    # Reset index \n",
    "    df_report.reset_index(inplace= True)\n",
    "    \n",
    "    return df_report "
   ]
  },
  {
   "cell_type": "markdown",
   "id": "9b95e5b7",
   "metadata": {},
   "source": [
    "## 4. Loop through the excel files list and for each month, open and clean the file, process and reformat it, merge it to the global dataframe and finally save everything to an excel file."
   ]
  },
  {
   "cell_type": "code",
   "execution_count": null,
   "id": "4705a35e",
   "metadata": {},
   "outputs": [],
   "source": [
    "\n",
    "\n",
    "for file_name, month in zip_loop:\n",
    "    # Import and Clean Data\n",
    "    df_clean = clean(file_raw, month)\n",
    "    # Build Monthly report\n",
    "    df_month = process_month(df_clean, month)\n",
    "    # Merge with previous Months report\n",
    "    if df_report.empty\n",
    "        df_report = df_month\n",
    "    else:\n",
    "        df_report = df_report.merge(df_month, on = 'index')\n",
    "        \n",
    "# Save Final Report\n",
    "df_report.to_excel('Final Report.xlsx')"
   ]
  }
 ],
 "metadata": {
  "kernelspec": {
   "display_name": "Python 3 (ipykernel)",
   "language": "python",
   "name": "python3"
  },
  "language_info": {
   "codemirror_mode": {
    "name": "ipython",
    "version": 3
   },
   "file_extension": ".py",
   "mimetype": "text/x-python",
   "name": "python",
   "nbconvert_exporter": "python",
   "pygments_lexer": "ipython3",
   "version": "3.9.12"
  }
 },
 "nbformat": 4,
 "nbformat_minor": 5
}
